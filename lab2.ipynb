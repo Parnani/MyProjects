{
 "cells": [
  {
   "cell_type": "code",
   "execution_count": 20,
   "metadata": {},
   "outputs": [
    {
     "name": "stdout",
     "output_type": "stream",
     "text": [
      "The sum of all items in the list is: 45\n"
     ]
    }
   ],
   "source": [
    "#WAP to find the sum of all the items in a list.\n",
    "list = [12,11,5,8,9]\n",
    "sum = 0\n",
    "for i in list:\n",
    "    sum = sum + i\n",
    "print(\"The sum of all items in the list is:\", sum)\n",
    "\n",
    "\n"
   ]
  },
  {
   "cell_type": "code",
   "execution_count": 4,
   "metadata": {},
   "outputs": [
    {
     "name": "stdout",
     "output_type": "stream",
     "text": [
      "The largest number is: 100\n"
     ]
    }
   ],
   "source": [
    "#WAP to get the largest number in a list\n",
    "list = [10,21,100,32,71,12]\n",
    "temp = 0\n",
    "for i in list:\n",
    "    if i > temp:\n",
    "        temp = i\n",
    "print(\"The largest number is:\", temp)"
   ]
  },
  {
   "cell_type": "code",
   "execution_count": null,
   "metadata": {},
   "outputs": [],
   "source": [
    "#WAP to check whether the list is empty or not\n",
    "list = []\n",
    "if len(list) == 0:\n",
    "    print(\"The list is empty\")\n",
    "else:\n",
    "    print(\"The list is not empty\")"
   ]
  },
  {
   "cell_type": "code",
   "execution_count": 7,
   "metadata": {},
   "outputs": [
    {
     "name": "stdout",
     "output_type": "stream",
     "text": [
      "The list L1 is  [12, 45, 11, 5, 10, 32]\n",
      "The list L2 is  [12, 45, 11, 5, 10, 32]\n"
     ]
    }
   ],
   "source": [
    "#WAP to copy one list to another\n",
    "L1 = [12, 45, 11, 5, 10, 32]\n",
    "L2 = L1[:]\n",
    "print(\"The list L1 is \",L1)\n",
    "print(\"The list L2 is \",L2)\n"
   ]
  },
  {
   "cell_type": "code",
   "execution_count": 11,
   "metadata": {},
   "outputs": [
    {
     "name": "stdout",
     "output_type": "stream",
     "text": [
      "True\n"
     ]
    }
   ],
   "source": [
    "#Write  a function that takes 2 lists and returns True if they have atleast 2 common elements\n",
    "def comm_list(l1, l2):\n",
    "    count =0\n",
    "    for i in l1:\n",
    "        for j in l2:\n",
    "            if  i == j :\n",
    "                count += 1\n",
    "                if count >= 2:\n",
    "                    return True \n",
    "    return False\n",
    "            \n",
    "l1 = [1,2,3,4,5]\n",
    "l2 = [1,2,6,7,8,9,10]\n",
    "print(comm_list(l1,l2))"
   ]
  },
  {
   "cell_type": "code",
   "execution_count": 14,
   "metadata": {},
   "outputs": [
    {
     "name": "stdout",
     "output_type": "stream",
     "text": [
      "[1, 4, 9, 16, 25]\n",
      "[676, 729, 784, 841, 900]\n"
     ]
    }
   ],
   "source": [
    "#WAP to generate a list of 1st and last 5 elements where the values are square of numbers between 1 and 30.\n",
    "l1 = []\n",
    "l2 = []\n",
    "for i in range(1,6):\n",
    "    l1.append(i**2)\n",
    "for i in range(26,31):\n",
    "    l2.append(i**2)\n",
    "\n",
    "print(l1)\n",
    "print(l2)\n",
    "\n"
   ]
  }
 ],
 "metadata": {
  "kernelspec": {
   "display_name": "Python 3",
   "language": "python",
   "name": "python3"
  },
  "language_info": {
   "codemirror_mode": {
    "name": "ipython",
    "version": 3
   },
   "file_extension": ".py",
   "mimetype": "text/x-python",
   "name": "python",
   "nbconvert_exporter": "python",
   "pygments_lexer": "ipython3",
   "version": "3.9.6 (tags/v3.9.6:db3ff76, Jun 28 2021, 15:26:21) [MSC v.1929 64 bit (AMD64)]"
  },
  "orig_nbformat": 4,
  "vscode": {
   "interpreter": {
    "hash": "81794d4967e6c3204c66dcd87b604927b115b27c00565d3d43f05ba2f3a2cb0d"
   }
  }
 },
 "nbformat": 4,
 "nbformat_minor": 2
}
