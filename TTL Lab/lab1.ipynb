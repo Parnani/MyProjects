{
 "cells": [
  {
   "cell_type": "code",
   "execution_count": 1,
   "metadata": {},
   "outputs": [
    {
     "name": "stdout",
     "output_type": "stream",
     "text": [
      "Hello World\n"
     ]
    }
   ],
   "source": [
    "print(\"Hello World\")"
   ]
  },
  {
   "cell_type": "code",
   "execution_count": 2,
   "metadata": {},
   "outputs": [
    {
     "name": "stdout",
     "output_type": "stream",
     "text": [
      "It is a positive number \n"
     ]
    }
   ],
   "source": [
    "#Q1 WAP to check whether a number is +ve,-ve using user defined functions.\n",
    "def check():\n",
    "    num=int(input(\"Enter a number:\"))\n",
    "    if num >= 0 :\n",
    "        print(\"It is a positive number \")\n",
    "    else:\n",
    "        print(\"It is a negative number.\")\n",
    "\n",
    "check()"
   ]
  },
  {
   "cell_type": "code",
   "execution_count": 3,
   "metadata": {},
   "outputs": [
    {
     "name": "stdout",
     "output_type": "stream",
     "text": [
      "567\n"
     ]
    }
   ],
   "source": [
    "#write a menu driven program of calculator\n",
    "n1 = int(input(\"Enter 1st number: \"))\n",
    "n2 = int(input(\"Enter 2nd number: \"))\n",
    "cal = (input(\"Enter the operand: ('+' '-' '*' '/' '%' \"))\n",
    "if cal == '+':\n",
    "    print(n1 + n2)\n",
    "elif cal == '-':\n",
    "    print(n1 - n2)\n",
    "elif cal == '*':\n",
    "    print(n1 * n2)\n",
    "elif cal == '/':\n",
    "    print(n1 / n2)\n",
    "elif cal == '%' :\n",
    "    print(n1 % n2)"
   ]
  },
  {
   "cell_type": "code",
   "execution_count": 4,
   "metadata": {},
   "outputs": [
    {
     "name": "stdout",
     "output_type": "stream",
     "text": [
      "It is not divisible by 3\n"
     ]
    }
   ],
   "source": [
    "#WAP to range from 1-50 which are divisble by 3\n",
    "def div_3(num):\n",
    "    dig_sum = 0\n",
    "    while  num > 0 :\n",
    "        rem = num % 10  \n",
    "        dig_sum = dig_sum + rem\n",
    "        num = num // 10\n",
    "    return (dig_sum % 3 == 0)\n",
    "\n",
    "num = int(input(\"Enter a number between (1 to 50):\"))\n",
    "if(div_3(num)):\n",
    "   print(\"It is divisible by 3\")\n",
    "else:\n",
    "    print(\"It is not divisible by 3\")"
   ]
  },
  {
   "cell_type": "code",
   "execution_count": 11,
   "metadata": {},
   "outputs": [
    {
     "name": "stdout",
     "output_type": "stream",
     "text": [
      "2\n",
      "3\n",
      "5\n",
      "7\n",
      "11\n",
      "13\n",
      "17\n",
      "19\n",
      "23\n",
      "29\n",
      "31\n",
      "37\n",
      "41\n",
      "43\n",
      "47\n"
     ]
    }
   ],
   "source": [
    "#WAP to range from 1-50 which are prime number\n",
    "def is_prime(n):\n",
    "    if n > 1:\n",
    "        for i in range(2, n):\n",
    "            if n % i == 0:\n",
    "                return False\n",
    "        return True\n",
    "    else:\n",
    "        return False\n",
    "\n",
    "def find_primes():\n",
    "    for num in range(1, 51):\n",
    "        if is_prime(num):\n",
    "            print(num)\n",
    "\n",
    "find_primes()\n",
    "    "
   ]
  },
  {
   "cell_type": "code",
   "execution_count": 5,
   "metadata": {},
   "outputs": [
    {
     "data": {
      "text/plain": [
       "9"
      ]
     },
     "execution_count": 5,
     "metadata": {},
     "output_type": "execute_result"
    }
   ],
   "source": [
    "#WAP to find the sum of the digit of a number.\n",
    "def sum(num):\n",
    "    dig_sum = 0\n",
    "    while  num > 0 :\n",
    "        rem = num % 10  \n",
    "        dig_sum = dig_sum + rem\n",
    "        num = num//10\n",
    "    return (dig_sum)\n",
    "\n",
    "num = int(input(\"Enter a number between (1 to 50):\"))\n",
    "sum(num)"
   ]
  }
 ],
 "metadata": {
  "kernelspec": {
   "display_name": "Python 3",
   "language": "python",
   "name": "python3"
  },
  "language_info": {
   "codemirror_mode": {
    "name": "ipython",
    "version": 3
   },
   "file_extension": ".py",
   "mimetype": "text/x-python",
   "name": "python",
   "nbconvert_exporter": "python",
   "pygments_lexer": "ipython3",
   "version": "3.9.6 (tags/v3.9.6:db3ff76, Jun 28 2021, 15:26:21) [MSC v.1929 64 bit (AMD64)]"
  },
  "orig_nbformat": 4,
  "vscode": {
   "interpreter": {
    "hash": "81794d4967e6c3204c66dcd87b604927b115b27c00565d3d43f05ba2f3a2cb0d"
   }
  }
 },
 "nbformat": 4,
 "nbformat_minor": 2
}
